{
  "nbformat": 4,
  "nbformat_minor": 0,
  "metadata": {
    "colab": {
      "name": "MiPrimerNotebook.ipynb",
      "provenance": [],
      "collapsed_sections": [],
      "authorship_tag": "ABX9TyNJghB2SRDUzOGaDPYkLGFi",
      "include_colab_link": true
    },
    "kernelspec": {
      "name": "python3",
      "display_name": "Python 3"
    }
  },
  "cells": [
    {
      "cell_type": "markdown",
      "metadata": {
        "id": "view-in-github",
        "colab_type": "text"
      },
      "source": [
        "<a href=\"https://colab.research.google.com/github/gvelec/DiplomadoCienciaDatosPython/blob/master/MiPrimerNotebook.ipynb\" target=\"_parent\"><img src=\"https://colab.research.google.com/assets/colab-badge.svg\" alt=\"Open In Colab\"/></a>"
      ]
    },
    {
      "cell_type": "markdown",
      "metadata": {
        "id": "N7HnusnG03WS",
        "colab_type": "text"
      },
      "source": [
        "#Mi primer 'Notebook'\n",
        "> Bienvenido a este primer curso donde esperamos pueda familiarizarse con las herramientas y esta interfaz de trabajo que nos permitira colaborar en la construccion de capacidades y destresas en ciencia de datos.\n",
        "\n"
      ]
    },
    {
      "cell_type": "markdown",
      "metadata": {
        "id": "b6QLYt9D0zW2",
        "colab_type": "text"
      },
      "source": [
        "##Celdas en un 'Notebook'\n",
        "Para el desarrollo de este curso solo utilizara dos tipo: 'Texto'(Text) y 'Codigo' (Code)"
      ]
    },
    {
      "cell_type": "markdown",
      "metadata": {
        "id": "POlg75n_9f0i",
        "colab_type": "text"
      },
      "source": [
        "###'Texto'\n",
        "Es un marco utilizado para informar al usuario del 'Notebook' acerca del contenido del mismo, dar intrucciones de uso, describir el codigo escrito, dejar notas para uso posterior o plasmar ideas de interes para el analisis de los datos (Esta es una celda de 'Texto').\n",
        "Puede insertar una celda de 'Texto' a un 'Notebook' desde el menu 'Insert' seleccionando de la lista 'Text Cell'"
      ]
    },
    {
      "cell_type": "markdown",
      "metadata": {
        "id": "kxFCbfiM-0-z",
        "colab_type": "text"
      },
      "source": [
        "###'Codigo'\n",
        "Es un marco utilizado para escribir codigo que sera ejecutado por el usuario. Es importante saber que por defecto el lenguaje para escribir codigo en un 'Notebook' es Python, sin embargo es posible utilizar otros lenguajes con una previa configuracion (La celda bajo esta linea es de 'Codigo'). Puede insertar una celda de 'Codigo' a un 'Notebook' desde el menu 'Insert' seleccionando de la lista 'Code Cell'. Por favor mueva el cursor sobre **[  ]** en la celda de codigo y accione el boton con simbolo de triangulo para ejecutar el codigo.\n"
      ]
    },
    {
      "cell_type": "code",
      "metadata": {
        "id": "MxrGmihR_Bbl",
        "colab_type": "code",
        "colab": {
          "base_uri": "https://localhost:8080/",
          "height": 34
        },
        "outputId": "efac8619-9a0f-42cd-e5ee-9bc12c6eb06e"
      },
      "source": [
        "# Este es un mensaje dentro del codigo.\n",
        "mensaje = 'Este es un mensaje'  # esta es una variable llamada 'mensaje' cuyo valor es 'Este es un mensaje'.\n",
        "print(mensaje)                  # print() funcion que permite convertir en texto y visualizar el contenido indicado."
      ],
      "execution_count": null,
      "outputs": [
        {
          "output_type": "stream",
          "text": [
            "Este es un mensaje\n"
          ],
          "name": "stdout"
        }
      ]
    },
    {
      "cell_type": "markdown",
      "metadata": {
        "id": "a0c0LZ7iBqxf",
        "colab_type": "text"
      },
      "source": [
        "*   Note que el simbolo cambia por un numero **[1]** esto indica el orden en que fue ejecutada la celda dentro de un 'Notebook'.\n",
        "*   Ademas, bajo la celda de codigo aparece un texto que expresa el resultado de la ejecucion del codigo, esta zona se denomina 'Salida'."
      ]
    },
    {
      "cell_type": "markdown",
      "metadata": {
        "id": "oHPzl99D83MY",
        "colab_type": "text"
      },
      "source": [
        "## Creando un 'Notebook'"
      ]
    },
    {
      "cell_type": "markdown",
      "metadata": {
        "id": "dFXQGUyMe-V0",
        "colab_type": "text"
      },
      "source": [
        "1.   Mueva el cursor hasta el menu 'File', accionelo y seleccione de la lista 'New notebook'.\n",
        "2.   Aparecera una nueva ventana en su navegador con un 'Notebook en banco de nombre 'Untitled0.ipynb'.\n",
        "3.   Mueva el cursor hasta la parte superior izquierda entre el simbolo de 'Google Drive' y una 'Estrella', alli esta un texto 'Untitled0.ipynb' accionelo y asignele como nombre '2020_Iniciales_001.ipynb' donde las Iniciales seran las letras de su Nombre y Apellido.\n",
        "4.   Mueva el cursor hasta el menu 'File', accionelo y seleccione de la lista 'Save'.\n",
        "5.   Se habra creado una carpeta en su 'Google Drive' llamada 'Colab Notebooks' y dentro habra una copia de este nuevo 'Notebook' creado por usted."
      ]
    },
    {
      "cell_type": "markdown",
      "metadata": {
        "id": "Uq-n0mwVJixt",
        "colab_type": "text"
      },
      "source": [
        "##Abriendo un 'Notebook'"
      ]
    },
    {
      "cell_type": "markdown",
      "metadata": {
        "id": "6fhAW_E2fGqK",
        "colab_type": "text"
      },
      "source": [
        "1.   Mueva el cursor hasta el menu 'File', accionelo y seleccione de la lista 'Open notebook'.\n",
        "2.   Aparecera una nueva ventana emergente sobre su navegador con un cinco opciones a saber: 'Examples','Recent','Google Drive','GitHub', y 'Upload'.\n",
        "  * Accionando 'Examples' se desplegara una lista de 'Notebooks' contentivos de diversos codigos que les permitiran explorar las capacidades de esta herramienta.(Estan en Ingles).\n",
        "  * Accionando 'Recent' se desplegara una lista de los 'Notebooks' recientemente abiertos por usted, detalle que se indica donde esta almacenado.\n",
        "  * Accionando 'Google Drive' se filtra la lista anterior desplegando solo los 'Notebooks' contenidos en su 'Google Drive'.\n",
        "  * Accionando 'GitHub' se filtra la lista anterior desplegando solo los 'Notebooks' contenidos en su repositorio de 'GitHub'.(Punto a ser tratado en otro 'Notebook')\n",
        "  * Accionando 'Upload' presenta la opcion para arrastrar un archivo o navegar por su disco local y seleccionarlo para luego ser subido y abierto."
      ]
    },
    {
      "cell_type": "markdown",
      "metadata": {
        "id": "BuWr39e6Oqai",
        "colab_type": "text"
      },
      "source": [
        "##Revisando la Historia de un 'Notebook'"
      ]
    },
    {
      "cell_type": "markdown",
      "metadata": {
        "id": "c29_bhwAfLHB",
        "colab_type": "text"
      },
      "source": [
        "1. Mueva el cursor hasta el menu 'File', accionelo y seleccione de la lista 'Revision History'.\n",
        "2. Cambiara la ventana de su navegador mostrandole una vision doble del mismo 'Notebook' pero en dos momentos distintos, siendo la derecha la ultima version salvada y la izquierda justo la anterior.\n",
        "3. En la izquierda se muestra una lista de todas las versiones existentes guardadas, cada una con dos puntos de seleccion uno para asignarla a la derecha o viceversa.\n",
        "4. Esta vista permite visualizar donde existen discrepancias entre ambas versiones.\n",
        "5. Siendo esta una herramienta muy utilizada para recuperar codigo descartado o perdido por error al guardar el 'Notebook'"
      ]
    },
    {
      "cell_type": "markdown",
      "metadata": {
        "id": "SX9ix9lJN8Zf",
        "colab_type": "text"
      },
      "source": [
        "##Descargando un 'Notebook'"
      ]
    },
    {
      "cell_type": "markdown",
      "metadata": {
        "id": "l1pzcn-nfQ9C",
        "colab_type": "text"
      },
      "source": [
        "1.  Mueva el cursor hasta el menu 'File', accionelo y seleccione de la lista 'Download .ipynb'.\n",
        "  * Se descargara automaticamente el 'Notebook' como un archivo de extension '.ipynb'.\n",
        "  * Encuentrelo en su carpeta local de descargas y abralo solo utilizando la aplicacion 'Block de Notas'(Usuarios de Windows) o similar (Usuarios de otro OS).\n",
        "  * Podra ver la estructura del 'Notebook' como un conjunto de datos agrupados utilizando {}, [], (), y etiquetados de diversas formas, esto se denomina 'Raw Source'.\n",
        "2.  Mueva el cursor hasta el menu 'File', accionelo y seleccione de la lista 'Download .py'.\n",
        "  * Se descargara automaticamente el 'Notebook' como un archivo de extension '.py'.\n",
        "    > Un archivo con esta extencion es un codigo o programa que puede ser detectado por su sistema como peligroso pues puede ser ejecutado y afectar a la seguridad del sistema o de sus datos.\n",
        "    > Este no es el caso, descarguelo confiado pues usted mismo creo el archivo.\n",
        "\n",
        "  * Encuentrelo en su carpeta local de descargas y abralo solo utilizando la aplicacion 'Block de Notas'(Usuarios de Windows) o similar (Usuarios de otro OS).\n",
        "  * Podra ver la estructura del 'Notebook' muy parecida a la que observamos cuando editamos una celda."
      ]
    },
    {
      "cell_type": "markdown",
      "metadata": {
        "id": "wO4EhZApX8UV",
        "colab_type": "text"
      },
      "source": [
        "#Primera Asignacion"
      ]
    },
    {
      "cell_type": "markdown",
      "metadata": {
        "id": "-B0VZfdffY6y",
        "colab_type": "text"
      },
      "source": [
        "1. Abra el reciente 'Notebook' creado por usted.\n",
        "2. Inserte una celda de 'Texto' donde se identificara con su nombre y expresara la razon por la que esta interesado en la ***Ciencia de Datos***.\n",
        "3. Inserte una celda de 'Datos' donde copiara el codigo para desplegar un mensaje presentado en este 'Notebook'.\n",
        "4. Asegurese de guardar los cambios en su 'Notebook'.\n",
        "5. Mueva el cursor hasta el menú 'File', al accionarlo seleccione de la lista 'Safe a copy in GitHub'.\n",
        "  \t-  Se abrira automáticamente una ventana para validar el acceso a su cuenta de GitHub.\n",
        "    -  Seguidamente la ventana cambiara por un formulario donde indicara:\n",
        "        El repositorio donde desea enviar el Notebook,\n",
        "        El branch donde lo envia,\n",
        "        El nombre que dara al notebook,\n",
        "        El comentario que sera mostrado en el repositorio,\n",
        "        Una casilla para indicar si incluye un enlace al original en su Colaboratory.\n",
        "6. Descarguelo a su computador y envielo utilizando la plataforma moodle (donde esta indicado) como prueba de finalizar con esta primera asignacion."
      ]
    }
  ]
}